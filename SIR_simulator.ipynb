{
  "cells": [
    {
      "cell_type": "markdown",
      "source": "## Simulate SIR Data\nCreated: June 26, 2020 Olivia and Harrison\\\nUpdated: Feb. 26, 2021 Olivia, Matthew and Harrison\n\n\n### SIR Stochastic Model\n\nEpidemics are intrinsically stochastic systems, therefore, it is natural to attempt to capture aspects of the random elements of an epidemic using a stochastic (that is, a Monte Carlo) model. Other models attempt to estimate the *mean* behavior of epidemics. Such models should be consistent with and, ideally, follow from the stochastic model as we show below.\n\n__Variables__\n\n$$\n\\begin{aligned}\n    S(t) &= \\text{mean number of susceptible persons at time } t,\\\\\n    I(t) &= \\text{mean number of infected persons at time } t,\\\\\n    R(t) &= \\text{mean number of recovered (removed) persons at time } t,\\\\\n    m    &= \\text{number of susceptible persons at time } t,\\\\\n    n    &= \\text{number of infected persons at time } t,\\\\\n\\end{aligned}\n$$\n__Parameters__\n$$\n\\begin{aligned}\n    \\alpha &= \\text{recovery rate (so } 1/\\alpha \\text{ is the mean infectious period)}\\\\\n    \\beta  &= \\text{transmission rate per infected person}\n\\end{aligned}\n$$\n__Stochastic Model__\n\nA stochastic model deals with transition probabilities over a time interval $h$ that is so short that only one of $K$ possible things that can happen in the interval $(t, t + h)$ occurs. The key idea is to assume a state at time $t + h$ and relate it probabilistically to the possible states at time $t$. The counts $m$ and $n$ define the state of the stochastic system. In this model we assume that only three things can happen: 1) an infection occurs or 2) a recovery of removal from the infected category occurs or 3) nothing happens. The transition probabilities are:\n\n$$\n \\begin{array}\n    & \n    \\text{state at time } t \\quad & \n    \\text{state at time } t + h \\quad &\n    \\text{transition probability }\\\\\n    \\text{infection } & m + 1, n - 1 & m, n & p_1 = \\beta (m + 1) (n - 1) \\, h + {\\cal O}(h^2)\\\\\n    \\text{removal } & m, n + 1 & m, n & p_2 = \\alpha (n + 1) \\, h + {\\cal O}(h^2)\\\\\n   \\text{none } & m, n & m, n & p_3 = 1 - (\\beta m n + \\alpha n ) \\, h + {\\cal O}(h^2).\n\\end{array}\n$$ \n\nTherefore, the probability to arrive at state $(m, n)$ at time $t + h$ is given by\n$$\n\\begin{aligned}\n    p_{m, n}(t + h) & = p_1 p_{m+1, n-1}(t) + p_2 p_{m, n+1}(t) + p_3 p_{m,n}(t).\n\\end{aligned}\n$$\n\nWriting $\\Delta p_{m,n} = p_{m,n}(t + h) - p_{m,n}(t)$, dividing by $h$, and letting $h \\rightarrow 0$, yields the Kolmogorov equations for the SIR model,\n\n$$\n\n\n\\begin{aligned}\n\\boxed{\\frac{dp_{m, n}}{dt} = \\beta \\, (m+1)(n-1) \\, p_{m+1, n-1}(t)\n                + \\alpha \\, (n+1) \\,  p_{m, n+1}(t) \n                - (\\beta m n + \\alpha n) \\, p_{m,n}(t),}\n\\end{aligned}\n               \n$$ \n\nthe solution of which is the probability $p_{m,n}(t)$ that at time $t$ there are exactly $m$ susceptible and $n$ infected persons. Define the following means\n\n$$\n\\begin{aligned}\n    S(t) & \\equiv \\langle m \\rangle = \\sum_{m, n} m \\, p_{m,n}(t), \\\\\n    I(t) & \\equiv \\langle n \\rangle = \\sum_{m, n} n \\, p_{m,n}(t),\n\\end{aligned}\n$$\n\nwhere the sum is over all pairs of integers $(0 \\leq m \\leq N, 0 \\leq n \\leq N)$ subject to the constraint $m + n \\leq N$,\nwhere $N$ is the size of the population, which is assumed to be fixed. The cardinality of the set $\\{ (m, n) \\}$ is $(N + 1) (N + 2)/2$. The mean function $S(t)$ satisfies the ordinary differential equation (ODE) \n\n$$\n\\begin{aligned}\n\\frac{dS}{dt} & = \\sum_{m, n} m \\, \\beta \\, (m+1)(n-1) \\, p_{m+1, n-1}\\\\\n              & + \\sum_{m, n} m \\, \\alpha \\, (n+1) \\,  p_{m, n+1} \\\\\n              &  - \\sum_{m, n} m \\, (\\beta m n + \\alpha n) \\, p_{m,n}.\n\\end{aligned}\n$$\n\nWe now try to write the above in terms of $S(t)$ and $I(t)$. To that end, change the indices in each sum so that the probabilities can be expressed as $p_{s, i}$. We can do this with the substitutions $m \\rightarrow s - 1$ and $n \\rightarrow i + 1$ in the first sum, $n \\rightarrow i - 1$ in the second sum, and $m \\rightarrow s$ and $n \\rightarrow i$ in the third sum. (We use $s(t)$ and $i(t)$ to remind us that these integers are the counts of susceptible and infected persons at time $t$, which, of course, are not necessarily equal to the associated means $S(t)$ and $I(t)$, respectively.) The ODE can now be written as\n\n$$\n\\begin{aligned}\n  \\frac{dS}{dt} & = \\sum_{s, i} \\left[ \\beta \\, (s - 1) \\, s i  \n                + \\alpha \\, s i \n                - (\\beta \\, s^2 i + \\alpha \\, s i) \\right] p_{s, i}, \\\\\n                & = -\\beta \\sum_{s, i} s i  \\,  p_{s, i}, \\\\\n                & = -\\beta \\, \\langle s i \\rangle = -\\beta \\, Q_{11},\n\\end{aligned}\n$$\n\nwhere we have defined the double moments $Q_{ab} \\equiv \\langle s^a i^b \\rangle =  \\sum_{s, i} s^a(t) i^b(t) \\, p_{s, i}$.\nA similar derivation yields\n\n$$\n\\begin{aligned}\n\\frac{dI}{dt} & = -\\alpha \\, I + \\beta \\, Q_{11},\n\\end{aligned}\n$$\n\nnoting that $I(t) = Q_{01}(t)$. \n\n\nIf the correlation between $s(t)$ and $i(t)$ can be neglected, we may assume $\\langle s(t) i(t) \\rangle \\approx \\langle s(t) \\rangle  \\langle  i(t) \\rangle = S(t) I(t)$. With this approximation, we arrive at the commonly used 2-parameter deterministic equations of the SIR model,\n\n$$\n\\begin{aligned}\n    \\frac{dS}{dt} & = - \\beta \\, S I, \\\\\n    \\frac{dI}{dt} & = - \\alpha I + \\beta \\, S I  .\n\\end{aligned}\n$$",
      "metadata": {
        "cell_id": "00000-eb5df143-9f44-41b5-9907-ac8a88a99464",
        "deepnote_cell_type": "markdown"
      }
    },
    {
      "cell_type": "code",
      "metadata": {
        "cell_id": "00001-ff21e3b2-2201-4a99-ab12-96969bbe91f6",
        "deepnote_to_be_reexecuted": false,
        "source_hash": "e31640e4",
        "execution_millis": 50,
        "execution_start": 1616206437396,
        "deepnote_cell_type": "code"
      },
      "source": "import os, sys\nimport numpy as np\nimport joblib as jb  # for saving Python objects",
      "execution_count": 1,
      "outputs": []
    },
    {
      "cell_type": "markdown",
      "source": "### Generate an epidemic\n\n  1. $T$ times at which to report observations (counts s and i)\n  1. $s_0$, $i_0$, $r_0$ initial counts of susceptibles, infected, and recovered.\n  1. $t_\\min, t_\\max$ minimum and maximum observation times. Note $T_0 \\equiv T[0] = t_\\min$.\n  1. $\\alpha, \\beta$ model parameters.\n  1. $maxiter$ maximum number of micro-steps just to make sure we don't get stuck in a loop.",
      "metadata": {
        "cell_id": "00002-a8a660ae-0424-42b7-add5-8f6f534138f4",
        "deepnote_cell_type": "markdown"
      }
    },
    {
      "cell_type": "code",
      "metadata": {
        "cell_id": "00003-bca29af2-0dbc-4524-8dde-5f00dffd37ee",
        "deepnote_to_be_reexecuted": false,
        "source_hash": "93fb545d",
        "execution_millis": 2,
        "execution_start": 1616206437456,
        "deepnote_cell_type": "code"
      },
      "source": "def generateTarget1(T, \n             s0, i0, r0, \n             tmin, tmax, \n             alpha, beta, \n             maxiter=500000):\n    \n    # initialize lists\n    s  = [s0]\n    i  = [i0]\n    r  = [r0]\n   \n    st = s0\n    it = i0\n    rt = r0\n   \n    # get first observation reporting time beyond tmin.\n    j  = 1\n    Treport = T[j]\n     \n    # start time\n    t  = tmin\n    ii = 0\n    #Ttest = [0];\n    while (t < tmax) and (ii < maxiter): # might want to change to t<=tmax!!!!\n        ii += 1\n    \n        # generate time to next event\n        p1   = beta * it * st\n        p2   = alpha* it\n        psum = p1 + p2\n        if psum <= 0: break\n\n        t += np.random.exponential(1.0/psum)\n\n        # Choose event\n        pr = [p1/psum, p2/psum]\n        k  = np.random.choice([1, 2], p=pr)\n        \n        i_new = 0\n        r_new = 0  \n        if k == 1:\n            i_new = 1  # an infection event\n        else:\n            r_new = 1  # a recovery or removal event\n\n        # save current state before update\n        st_prev = st\n        it_prev = it\n        rt_prev = rt\n        \n        # update state\n        st = st - i_new\n        it = it + i_new - r_new\n        rt = rt + r_new\n        \n        # if time exceeds next observation reporting time, \n        # return data of previous state\n        if t > Treport:  # Should this be t>= Treport??? --No!\n            s.append(st_prev)\n            i.append(it_prev)\n            r.append(rt_prev)\n            \n            #Ttest.append(Treport)\n            # get next reporting time\n            j += 1\n            if j < len(T):  # Should this be j<=len(T)???\n                Treport = T[j]\n            else:\n                break\n        #deprecated test code print statement remove at a later date.        \n        #print('Treport', Treport,s[-1],i[-1],r[-1],np.shape(s),np.shape(i),np.shape(r))    \n        # if time exceeds last reporting time, we're done!\n        if t > T[-1]: \n            break\n     \n    # convert python lists to numpy arrays\n    s = np.array(s)\n    i = np.array(i)\n    r = np.array(r)\n    \n    return (s, i, r)",
      "execution_count": 2,
      "outputs": []
    },
    {
      "cell_type": "code",
      "metadata": {
        "cell_id": "00004-41d2012b-5d32-417f-b766-9501ccccc198",
        "deepnote_to_be_reexecuted": false,
        "source_hash": "b623e53d",
        "execution_millis": 2,
        "execution_start": 1616206437461,
        "deepnote_cell_type": "code"
      },
      "source": "",
      "execution_count": 2,
      "outputs": []
    },
    {
      "cell_type": "code",
      "metadata": {
        "tags": [],
        "cell_id": "00005-fd03de9e-f8f1-4e0a-8034-da394b70108f",
        "deepnote_to_be_reexecuted": false,
        "source_hash": "b623e53d",
        "execution_millis": 3,
        "execution_start": 1616206437465,
        "deepnote_cell_type": "code"
      },
      "source": "",
      "execution_count": 2,
      "outputs": []
    },
    {
      "cell_type": "code",
      "metadata": {
        "tags": [],
        "cell_id": "00006-b558dd58-5ebe-4c19-baff-671ab8842bbd",
        "deepnote_to_be_reexecuted": false,
        "source_hash": "aa76e70b",
        "execution_millis": 4,
        "execution_start": 1616206437470,
        "deepnote_cell_type": "code"
      },
      "source": " ",
      "execution_count": 2,
      "outputs": []
    },
    {
      "cell_type": "markdown",
      "source": "<a style='text-decoration:none;line-height:16px;display:flex;color:#5B5B62;padding:10px;justify-content:end;' href='https://deepnote.com?utm_source=created-in-deepnote-cell&projectId=b323b509-75b9-423f-bb04-ac84a2ad5053' target=\"_blank\">\n<img style='display:inline;max-height:16px;margin:0px;margin-right:7.5px;' src='data:image/svg+xml;base64,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' > </img>\nCreated in <span style='font-weight:600;margin-left:4px;'>Deepnote</span></a>",
      "metadata": {
        "tags": [],
        "created_in_deepnote_cell": true,
        "deepnote_cell_type": "markdown"
      }
    }
  ],
  "nbformat": 4,
  "nbformat_minor": 4,
  "metadata": {
    "kernelspec": {
      "display_name": "Python 3",
      "language": "python",
      "name": "python3"
    },
    "language_info": {
      "codemirror_mode": {
        "name": "ipython",
        "version": 3
      },
      "file_extension": ".py",
      "mimetype": "text/x-python",
      "name": "python",
      "nbconvert_exporter": "python",
      "pygments_lexer": "ipython3",
      "version": "3.8.2"
    },
    "deepnote_notebook_id": "d6be736c-b035-413e-bf2a-8aaabf63e6f5",
    "deepnote": {},
    "deepnote_execution_queue": []
  }
}