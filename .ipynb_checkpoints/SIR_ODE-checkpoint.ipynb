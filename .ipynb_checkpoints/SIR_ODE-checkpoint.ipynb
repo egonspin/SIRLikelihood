{
 "cells": [
  {
   "cell_type": "code",
   "execution_count": null,
   "metadata": {
    "cell_id": "00000-48831f72-164f-477f-98e6-6f9b7820f4cf",
    "deepnote_cell_type": "code",
    "deepnote_to_be_reexecuted": false,
    "execution_millis": 1810,
    "execution_start": 1616166016944,
    "source_hash": "2e8744ec"
   },
   "outputs": [],
   "source": [
    "import os, sys\n",
    "import numpy as np\n",
    "import sympy as sm\n",
    "\n",
    "import scipy as sp\n",
    "from scipy.integrate import solve_ivp\n",
    "\n",
    "import matplotlib as mp\n",
    "import matplotlib.pyplot as plt\n",
    "\n",
    "%matplotlib inline\n",
    "# enable pretty printing of equations\n",
    "# sm.init_printing()"
   ]
  },
  {
   "cell_type": "code",
   "execution_count": null,
   "metadata": {
    "cell_id": "00001-62c8f1dc-dfd0-4ebb-a721-261dc64685bc",
    "deepnote_cell_type": "code",
    "deepnote_to_be_reexecuted": false,
    "execution_millis": 1,
    "execution_start": 1616166018759,
    "source_hash": "6e6f654b"
   },
   "outputs": [],
   "source": [
    "# update fonts\n",
    "FONTSIZE = 20\n",
    "font = {'family' : 'serif',\n",
    "        'weight' : 'normal',\n",
    "        'size'   : FONTSIZE}\n",
    "mp.rc('font', **font)\n",
    "mp.rc('xtick', labelsize='x-small')\n",
    "mp.rc('ytick', labelsize='x-small')\n",
    "#mp.rc('text', usetex=True)"
   ]
  },
  {
   "cell_type": "markdown",
   "metadata": {
    "cell_id": "00002-1baeea3e-f905-47b5-8b4b-7ddcee6dc78e",
    "deepnote_cell_type": "markdown"
   },
   "source": [
    "Here, we solve the SIR model:\n",
    "$$\n",
    "\\begin{aligned}\n",
    "    \\frac{dS}{dt}&= -\\beta S I \\\\\n",
    "    \\frac{dI}{dt}&=\\beta S I - \\alpha  I \\\\\n",
    "    \\frac{dR}{dt}&= \\alpha I \n",
    "\\end{aligned}\n",
    "$$"
   ]
  },
  {
   "cell_type": "code",
   "execution_count": null,
   "metadata": {
    "cell_id": "00004-90ab4174-4530-4312-9590-e640912dc105",
    "deepnote_cell_type": "code",
    "deepnote_to_be_reexecuted": false,
    "execution_millis": 14,
    "execution_start": 1616166018764,
    "source_hash": "c4ca27e4"
   },
   "outputs": [],
   "source": [
    "# Define a class ModelSetup that contains all the parameters, intial conditions, time spans, data, etc, to run the model\n",
    "class ModelSetup:\n",
    "    \n",
    "    # Define parameters\n",
    "    \n",
    "    beta = .01 #0.4\n",
    "    alpha = .1 #0.25\n",
    "     \n",
    "    # Define initial conditions\n",
    "\n",
    "    N0 = 1000\n",
    "    I0 = 10\n",
    "    R0 = 0\n",
    "    S0 = N0-I0-R0\n",
    "    init_cond = np.array([S0, I0, R0])\n",
    "    \n",
    "    tspan = (0,300)#(times[0],times[-1])\n",
    "    #tdata = times\n",
    "    #ydata = data\n",
    "    t_eval = np.arange(start=tspan[0], stop=tspan[-1], step=0.1)\n",
    "    "
   ]
  },
  {
   "cell_type": "code",
   "execution_count": null,
   "metadata": {
    "cell_id": "00005-b6595958-5374-4698-a5a3-7c4fa7cdd536",
    "deepnote_cell_type": "code",
    "deepnote_to_be_reexecuted": false,
    "execution_millis": 2,
    "execution_start": 1616166018781,
    "source_hash": "1b7b2aa4"
   },
   "outputs": [],
   "source": [
    "MS = ModelSetup"
   ]
  },
  {
   "cell_type": "markdown",
   "metadata": {
    "cell_id": "00006-6a0a53de-1cb2-4efd-b5a1-95407c175b8e",
    "deepnote_cell_type": "markdown"
   },
   "source": [
    "In the following cell, we (1) define a function that computes the derivatives dS/dt, dI/dt, dR/dt that define the SIR model, and (2) define a function SolveSIRModel that solves the model given to input parameters alpha and beta, using the function 'solve_ivp'."
   ]
  },
  {
   "cell_type": "code",
   "execution_count": null,
   "metadata": {
    "cell_id": "00007-838efcf9-2922-487e-93d3-274e569d1c02",
    "deepnote_cell_type": "code",
    "deepnote_to_be_reexecuted": false,
    "execution_millis": 2,
    "execution_start": 1616166018787,
    "source_hash": "79afb8e2"
   },
   "outputs": [],
   "source": [
    "# Define model equations in function dydt.  It returns the values of the RHS of the ODE at (t,y).\n",
    "def dydt(t, y):\n",
    "    \n",
    "    alpha = MS.alpha\n",
    "    beta  = MS.beta\n",
    "\n",
    "\n",
    "    S = y[0]\n",
    "    I = y[1]\n",
    "    R = y[2]\n",
    "    \n",
    "    dS =  -beta*S*I\n",
    "    dI = beta*S*I - alpha*I\n",
    "    dR = alpha*I\n",
    "    \n",
    "    return np.array([dS,dI,dR])\n",
    "\n",
    "# Solve the SIR model using solve_ivp\n",
    "def SolveSIRModel(alpha, beta):\n",
    "    MS.alpha = alpha\n",
    "    MS.beta  = beta\n",
    "\n",
    "    \n",
    "    return solve_ivp(dydt, \n",
    "                     MS.tspan, \n",
    "                     MS.init_cond, \n",
    "                     t_eval=MS.t_eval)"
   ]
  },
  {
   "cell_type": "markdown",
   "metadata": {
    "cell_id": "00009-76b7f446-87cb-4980-b798-bb55192a11a4",
    "deepnote_cell_type": "markdown"
   },
   "source": [
    "Now let's plot the solution curves and the data by defining a function plotSolution that takes the output of SolveSIRModel as input."
   ]
  },
  {
   "cell_type": "code",
   "execution_count": null,
   "metadata": {
    "cell_id": "00010-7c1695c4-d32c-41b6-9131-ae918b50144b",
    "deepnote_cell_type": "code",
    "deepnote_to_be_reexecuted": false,
    "execution_millis": 1,
    "execution_start": 1616166018835,
    "source_hash": "a47e79bf"
   },
   "outputs": [],
   "source": [
    "def plotSolution(soln):\n",
    "    # set size of figure\n",
    "    plt.figure(figsize=(8, 5))\n",
    "\n",
    "    #plt.errorbar(z, x, yerr=dx, fmt=\".k\")\n",
    "\n",
    "    t = soln.t\n",
    "    S = soln.y[0]*MS.kappa\n",
    "    I = soln.y[1]*MS.kappa\n",
    "\n",
    "    #plt.plot(t, S, c='royalblue', linewidth=2, label='$S(t)$')\n",
    "    plt.plot(t, I, c='darkorange',  linewidth=2, label='$\\kappa I(t)$')\n",
    "    plt.plot(MS.tdata,MS.ydata,'ko',label='Data')\n",
    "    plt.legend(fontsize=16)\n",
    "    \n",
    "    xmin = t[0]\n",
    "    xmax = t[-1]\n",
    "    plt.xlim(xmin, xmax)\n",
    "    \n",
    "    ymin = 1.e-4\n",
    "    ymax = int(1.1*max(max(I),max(MS.ydata)))\n",
    "    plt.ylim(ymin, ymax)\n",
    "    #plt.yscale('log')\n",
    "    plt.grid(True, which=\"both\", linestyle='-')\n",
    "    plt.xlabel(\"Time, $t$\", fontsize=16)\n",
    "    plt.ylabel(\"Number infected\",fontsize=16)\n",
    "    \n",
    "    plt.savefig('SIRplot.pdf')"
   ]
  },
  {
   "cell_type": "markdown",
   "metadata": {
    "created_in_deepnote_cell": true,
    "deepnote_cell_type": "markdown",
    "tags": []
   },
   "source": [
    "<a style='text-decoration:none;line-height:16px;display:flex;color:#5B5B62;padding:10px;justify-content:end;' href='https://deepnote.com?utm_source=created-in-deepnote-cell&projectId=b323b509-75b9-423f-bb04-ac84a2ad5053' target=\"_blank\">\n",
    "<img style='display:inline;max-height:16px;margin:0px;margin-right:7.5px;' src='data:image/svg+xml;base64,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' > </img>\n",
    "Created in <span style='font-weight:600;margin-left:4px;'>Deepnote</span></a>"
   ]
  }
 ],
 "metadata": {
  "deepnote": {},
  "deepnote_execution_queue": [],
  "deepnote_notebook_id": "f5963f7e-8092-46de-b563-91cf7191b821",
  "kernelspec": {
   "display_name": "Python 3",
   "language": "python",
   "name": "python3"
  },
  "language_info": {
   "codemirror_mode": {
    "name": "ipython",
    "version": 3
   },
   "file_extension": ".py",
   "mimetype": "text/x-python",
   "name": "python",
   "nbconvert_exporter": "python",
   "pygments_lexer": "ipython3",
   "version": "3.6.11"
  }
 },
 "nbformat": 4,
 "nbformat_minor": 4
}
